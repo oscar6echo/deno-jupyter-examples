{
 "cells": [
  {
   "cell_type": "markdown",
   "id": "5175d9d1-dc06-4dc4-b268-30d52ab3f4ea",
   "metadata": {},
   "source": [
    "### Bar Chart\n",
    "\n",
    "Ref: https://observablehq.com/@d3/bar-chart/2"
   ]
  },
  {
   "cell_type": "code",
   "execution_count": 1,
   "id": "c2c2a90c-e097-40be-bce4-751d220bac2e",
   "metadata": {},
   "outputs": [],
   "source": [
    "import {buildReload} from './src/common/reload.ts'\n",
    "const reload = buildReload();"
   ]
  },
  {
   "cell_type": "code",
   "execution_count": 2,
   "id": "6731e563-420c-419e-b5eb-aaa89d9c53bf",
   "metadata": {},
   "outputs": [],
   "source": [
    "import Demo from './src/samples/bar-chart/demo.ts'"
   ]
  },
  {
   "cell_type": "code",
   "execution_count": 3,
   "id": "45ab69a3-f061-411d-866f-0fdc55cf9568",
   "metadata": {},
   "outputs": [],
   "source": [
    "const c = new Demo()"
   ]
  },
  {
   "cell_type": "code",
   "execution_count": 4,
   "id": "55ad58b6-35a7-4275-886e-7a9c76e3ae88",
   "metadata": {},
   "outputs": [],
   "source": [
    "const {load_data, plot} = await reload('./src/samples/bar-chart/elements.ts')\n",
    "c.update_methods({load_data: load_data, plot: plot})"
   ]
  },
  {
   "cell_type": "code",
   "execution_count": 5,
   "id": "0f090b14-555b-48b2-b9f8-ceff4f4c8209",
   "metadata": {},
   "outputs": [
    {
     "name": "stdout",
     "output_type": "stream",
     "text": [
      "load alphabet.csv from disk\n",
      "[\n",
      "  { letter: \u001b[32m\"A\"\u001b[39m, frequency: \u001b[32m\"0.08167\"\u001b[39m },\n",
      "  { letter: \u001b[32m\"B\"\u001b[39m, frequency: \u001b[32m\"0.01492\"\u001b[39m },\n",
      "  { letter: \u001b[32m\"C\"\u001b[39m, frequency: \u001b[32m\"0.02782\"\u001b[39m },\n",
      "  { letter: \u001b[32m\"D\"\u001b[39m, frequency: \u001b[32m\"0.04253\"\u001b[39m },\n",
      "  { letter: \u001b[32m\"E\"\u001b[39m, frequency: \u001b[32m\"0.12702\"\u001b[39m },\n",
      "  { letter: \u001b[32m\"F\"\u001b[39m, frequency: \u001b[32m\"0.02288\"\u001b[39m },\n",
      "  { letter: \u001b[32m\"G\"\u001b[39m, frequency: \u001b[32m\"0.02015\"\u001b[39m },\n",
      "  { letter: \u001b[32m\"H\"\u001b[39m, frequency: \u001b[32m\"0.06094\"\u001b[39m },\n",
      "  { letter: \u001b[32m\"I\"\u001b[39m, frequency: \u001b[32m\"0.06966\"\u001b[39m },\n",
      "  { letter: \u001b[32m\"J\"\u001b[39m, frequency: \u001b[32m\"0.00153\"\u001b[39m },\n",
      "  { letter: \u001b[32m\"K\"\u001b[39m, frequency: \u001b[32m\"0.00772\"\u001b[39m },\n",
      "  { letter: \u001b[32m\"L\"\u001b[39m, frequency: \u001b[32m\"0.04025\"\u001b[39m },\n",
      "  { letter: \u001b[32m\"M\"\u001b[39m, frequency: \u001b[32m\"0.02406\"\u001b[39m },\n",
      "  { letter: \u001b[32m\"N\"\u001b[39m, frequency: \u001b[32m\"0.06749\"\u001b[39m },\n",
      "  { letter: \u001b[32m\"O\"\u001b[39m, frequency: \u001b[32m\"0.07507\"\u001b[39m },\n",
      "  { letter: \u001b[32m\"P\"\u001b[39m, frequency: \u001b[32m\"0.01929\"\u001b[39m },\n",
      "  { letter: \u001b[32m\"Q\"\u001b[39m, frequency: \u001b[32m\"0.00095\"\u001b[39m },\n",
      "  { letter: \u001b[32m\"R\"\u001b[39m, frequency: \u001b[32m\"0.05987\"\u001b[39m },\n",
      "  { letter: \u001b[32m\"S\"\u001b[39m, frequency: \u001b[32m\"0.06327\"\u001b[39m },\n",
      "  { letter: \u001b[32m\"T\"\u001b[39m, frequency: \u001b[32m\"0.09056\"\u001b[39m },\n",
      "  { letter: \u001b[32m\"U\"\u001b[39m, frequency: \u001b[32m\"0.02758\"\u001b[39m },\n",
      "  { letter: \u001b[32m\"V\"\u001b[39m, frequency: \u001b[32m\"0.00978\"\u001b[39m },\n",
      "  { letter: \u001b[32m\"W\"\u001b[39m, frequency: \u001b[32m\"0.0236\"\u001b[39m },\n",
      "  { letter: \u001b[32m\"X\"\u001b[39m, frequency: \u001b[32m\"0.0015\"\u001b[39m },\n",
      "  { letter: \u001b[32m\"Y\"\u001b[39m, frequency: \u001b[32m\"0.01974\"\u001b[39m },\n",
      "  { letter: \u001b[32m\"Z\"\u001b[39m, frequency: \u001b[32m\"0.00074\"\u001b[39m },\n",
      "  columns: [ \u001b[32m\"letter\"\u001b[39m, \u001b[32m\"frequency\"\u001b[39m ]\n",
      "]\n"
     ]
    }
   ],
   "source": [
    "await c.load_data()"
   ]
  },
  {
   "cell_type": "code",
   "execution_count": 6,
   "id": "91aed9a0-5b71-4b1f-84fb-ac347b1daa1c",
   "metadata": {},
   "outputs": [
    {
     "data": {
      "text/html": [
       "<svg style=\"max-width: 100%; height: auto;\" viewBox=\"0,0,800,400\" height=\"400\" width=\"800\"><g fill=\"steelblue\"><rect width=\"26.206896551724142\" height=\"218.60966776885533\" y=\"151.39033223114467\" x=\"101.14942528735632\" /><rect width=\"26.206896551724142\" height=\"39.937017792473625\" y=\"330.0629822075264\" x=\"596.168582375479\" /><rect width=\"26.206896551724142\" height=\"74.46701306880806\" y=\"295.53298693119194\" x=\"363.21839080459773\" /><rect width=\"26.206896551724142\" height=\"113.8419146591088\" y=\"256.1580853408912\" x=\"304.9808429118774\" /><rect width=\"26.206896551724142\" height=\"340\" y=\"30\" x=\"42.91187739463601\" /><rect width=\"26.206896551724142\" height=\"61.2438985986459\" y=\"308.7561014013541\" x=\"479.6934865900384\" /><rect width=\"26.206896551724142\" height=\"53.936387970398414\" y=\"316.0636120296016\" x=\"508.8122605363985\" /><rect width=\"26.206896551724142\" height=\"163.1207683829318\" y=\"206.8792316170682\" x=\"246.7432950191571\" /><rect width=\"26.206896551724142\" height=\"186.46197449220597\" y=\"183.53802550779403\" x=\"159.38697318007664\" /><rect width=\"26.206896551724142\" height=\"4.095418044402436\" y=\"365.90458195559756\" x=\"683.5249042145595\" /><rect width=\"26.206896551724142\" height=\"20.664462289403218\" y=\"349.3355377105968\" x=\"654.4061302681993\" /><rect width=\"26.206896551724142\" height=\"107.7389387498032\" y=\"262.2610612501968\" x=\"334.0996168582376\" /><rect width=\"26.206896551724142\" height=\"64.40245630609354\" y=\"305.59754369390646\" x=\"421.45593869731806\" /><rect width=\"26.206896551724142\" height=\"180.6534404030861\" y=\"189.3465595969139\" x=\"188.5057471264368\" /><rect width=\"26.206896551724142\" height=\"200.94315855770748\" y=\"169.05684144229252\" x=\"130.26819923371647\" /><rect width=\"26.206896551724142\" height=\"51.6343882853094\" y=\"318.3656117146906\" x=\"567.0498084291188\" /><rect width=\"26.206896551724142\" height=\"2.542906628877347\" y=\"367.45709337112265\" x=\"741.7624521072797\" /><rect width=\"26.206896551724142\" height=\"160.25665249566995\" y=\"209.74334750433005\" x=\"275.86206896551727\" /><rect width=\"26.206896551724142\" height=\"169.357581483231\" y=\"200.642418516769\" x=\"217.62452107279694\" /><rect width=\"26.206896551724142\" height=\"242.4059203275075\" y=\"127.5940796724925\" x=\"72.03065134099617\" /><rect width=\"26.206896551724142\" height=\"73.82459455203906\" y=\"296.17540544796094\" x=\"392.33716475095787\" /><rect width=\"26.206896551724142\" height=\"26.178554558337282\" y=\"343.8214454416627\" x=\"625.2873563218392\" /><rect width=\"26.206896551724142\" height=\"63.171154148952894\" y=\"306.8288458510471\" x=\"450.5747126436782\" /><rect width=\"26.206896551724142\" height=\"4.015115729806382\" y=\"365.9848842701936\" x=\"712.6436781609196\" /><rect width=\"26.206896551724142\" height=\"52.83892300425134\" y=\"317.16107699574866\" x=\"537.9310344827586\" /><rect width=\"26.206896551724142\" height=\"1.9807904267044592\" y=\"368.01920957329554\" x=\"770.8812260536399\" /></g><g text-anchor=\"middle\" font-family=\"sans-serif\" font-size=\"10\" fill=\"none\" transform=\"translate(0,370)\"><path d=\"M40.5,0.5H800.5\" stroke=\"white\" class=\"domain\" /><g transform=\"translate(56.01532567049808,0)\" opacity=\"1\" class=\"tick\"><line y2=\"6\" stroke=\"white\" /><text dy=\"0.71em\" y=\"9\" fill=\"white\">E</text></g><g transform=\"translate(85.13409961685824,0)\" opacity=\"1\" class=\"tick\"><line y2=\"6\" stroke=\"white\" /><text dy=\"0.71em\" y=\"9\" fill=\"white\">T</text></g><g transform=\"translate(114.2528735632184,0)\" opacity=\"1\" class=\"tick\"><line y2=\"6\" stroke=\"white\" /><text dy=\"0.71em\" y=\"9\" fill=\"white\">A</text></g><g transform=\"translate(143.37164750957854,0)\" opacity=\"1\" class=\"tick\"><line y2=\"6\" stroke=\"white\" /><text dy=\"0.71em\" y=\"9\" fill=\"white\">O</text></g><g transform=\"translate(172.4904214559387,0)\" opacity=\"1\" class=\"tick\"><line y2=\"6\" stroke=\"white\" /><text dy=\"0.71em\" y=\"9\" fill=\"white\">I</text></g><g transform=\"translate(201.60919540229887,0)\" opacity=\"1\" class=\"tick\"><line y2=\"6\" stroke=\"white\" /><text dy=\"0.71em\" y=\"9\" fill=\"white\">N</text></g><g transform=\"translate(230.727969348659,0)\" opacity=\"1\" class=\"tick\"><line y2=\"6\" stroke=\"white\" /><text dy=\"0.71em\" y=\"9\" fill=\"white\">S</text></g><g transform=\"translate(259.84674329501917,0)\" opacity=\"1\" class=\"tick\"><line y2=\"6\" stroke=\"white\" /><text dy=\"0.71em\" y=\"9\" fill=\"white\">H</text></g><g transform=\"translate(288.96551724137936,0)\" opacity=\"1\" class=\"tick\"><line y2=\"6\" stroke=\"white\" /><text dy=\"0.71em\" y=\"9\" fill=\"white\">R</text></g><g transform=\"translate(318.0842911877395,0)\" opacity=\"1\" class=\"tick\"><line y2=\"6\" stroke=\"white\" /><text dy=\"0.71em\" y=\"9\" fill=\"white\">D</text></g><g transform=\"translate(347.2030651340997,0)\" opacity=\"1\" class=\"tick\"><line y2=\"6\" stroke=\"white\" /><text dy=\"0.71em\" y=\"9\" fill=\"white\">L</text></g><g transform=\"translate(376.3218390804598,0)\" opacity=\"1\" class=\"tick\"><line y2=\"6\" stroke=\"white\" /><text dy=\"0.71em\" y=\"9\" fill=\"white\">C</text></g><g transform=\"translate(405.44061302681996,0)\" opacity=\"1\" class=\"tick\"><line y2=\"6\" stroke=\"white\" /><text dy=\"0.71em\" y=\"9\" fill=\"white\">U</text></g><g transform=\"translate(434.55938697318015,0)\" opacity=\"1\" class=\"tick\"><line y2=\"6\" stroke=\"white\" /><text dy=\"0.71em\" y=\"9\" fill=\"white\">M</text></g><g transform=\"translate(463.6781609195403,0)\" opacity=\"1\" class=\"tick\"><line y2=\"6\" stroke=\"white\" /><text dy=\"0.71em\" y=\"9\" fill=\"white\">W</text></g><g transform=\"translate(492.7969348659005,0)\" opacity=\"1\" class=\"tick\"><line y2=\"6\" stroke=\"white\" /><text dy=\"0.71em\" y=\"9\" fill=\"white\">F</text></g><g transform=\"translate(521.9157088122606,0)\" opacity=\"1\" class=\"tick\"><line y2=\"6\" stroke=\"white\" /><text dy=\"0.71em\" y=\"9\" fill=\"white\">G</text></g><g transform=\"translate(551.0344827586207,0)\" opacity=\"1\" class=\"tick\"><line y2=\"6\" stroke=\"white\" /><text dy=\"0.71em\" y=\"9\" fill=\"white\">Y</text></g><g transform=\"translate(580.1532567049809,0)\" opacity=\"1\" class=\"tick\"><line y2=\"6\" stroke=\"white\" /><text dy=\"0.71em\" y=\"9\" fill=\"white\">P</text></g><g transform=\"translate(609.2720306513411,0)\" opacity=\"1\" class=\"tick\"><line y2=\"6\" stroke=\"white\" /><text dy=\"0.71em\" y=\"9\" fill=\"white\">B</text></g><g transform=\"translate(638.3908045977013,0)\" opacity=\"1\" class=\"tick\"><line y2=\"6\" stroke=\"white\" /><text dy=\"0.71em\" y=\"9\" fill=\"white\">V</text></g><g transform=\"translate(667.5095785440614,0)\" opacity=\"1\" class=\"tick\"><line y2=\"6\" stroke=\"white\" /><text dy=\"0.71em\" y=\"9\" fill=\"white\">K</text></g><g transform=\"translate(696.6283524904215,0)\" opacity=\"1\" class=\"tick\"><line y2=\"6\" stroke=\"white\" /><text dy=\"0.71em\" y=\"9\" fill=\"white\">J</text></g><g transform=\"translate(725.7471264367817,0)\" opacity=\"1\" class=\"tick\"><line y2=\"6\" stroke=\"white\" /><text dy=\"0.71em\" y=\"9\" fill=\"white\">X</text></g><g transform=\"translate(754.8659003831418,0)\" opacity=\"1\" class=\"tick\"><line y2=\"6\" stroke=\"white\" /><text dy=\"0.71em\" y=\"9\" fill=\"white\">Q</text></g><g transform=\"translate(783.984674329502,0)\" opacity=\"1\" class=\"tick\"><line y2=\"6\" stroke=\"white\" /><text dy=\"0.71em\" y=\"9\" fill=\"white\">Z</text></g></g><g text-anchor=\"end\" font-family=\"sans-serif\" font-size=\"10\" fill=\"none\" transform=\"translate(40,0)\"><g transform=\"translate(0,370.5)\" opacity=\"1\" class=\"tick\"><line x2=\"-6\" stroke=\"white\" /><text dy=\"0.32em\" x=\"-9\" fill=\"white\">0</text></g><g transform=\"translate(0,343.7325618012911)\" opacity=\"1\" class=\"tick\"><line x2=\"-6\" stroke=\"white\" /><text dy=\"0.32em\" x=\"-9\" fill=\"white\">1</text></g><g transform=\"translate(0,316.96512360258225)\" opacity=\"1\" class=\"tick\"><line x2=\"-6\" stroke=\"white\" /><text dy=\"0.32em\" x=\"-9\" fill=\"white\">2</text></g><g transform=\"translate(0,290.1976854038734)\" opacity=\"1\" class=\"tick\"><line x2=\"-6\" stroke=\"white\" /><text dy=\"0.32em\" x=\"-9\" fill=\"white\">3</text></g><g transform=\"translate(0,263.4302472051645)\" opacity=\"1\" class=\"tick\"><line x2=\"-6\" stroke=\"white\" /><text dy=\"0.32em\" x=\"-9\" fill=\"white\">4</text></g><g transform=\"translate(0,236.66280900645566)\" opacity=\"1\" class=\"tick\"><line x2=\"-6\" stroke=\"white\" /><text dy=\"0.32em\" x=\"-9\" fill=\"white\">5</text></g><g transform=\"translate(0,209.89537080774681)\" opacity=\"1\" class=\"tick\"><line x2=\"-6\" stroke=\"white\" /><text dy=\"0.32em\" x=\"-9\" fill=\"white\">6</text></g><g transform=\"translate(0,183.12793260903788)\" opacity=\"1\" class=\"tick\"><line x2=\"-6\" stroke=\"white\" /><text dy=\"0.32em\" x=\"-9\" fill=\"white\">7</text></g><g transform=\"translate(0,156.36049441032907)\" opacity=\"1\" class=\"tick\"><line x2=\"-6\" stroke=\"white\" /><text dy=\"0.32em\" x=\"-9\" fill=\"white\">8</text></g><g transform=\"translate(0,129.5930562116202)\" opacity=\"1\" class=\"tick\"><line x2=\"-6\" stroke=\"white\" /><text dy=\"0.32em\" x=\"-9\" fill=\"white\">9</text></g><g transform=\"translate(0,102.82561801291132)\" opacity=\"1\" class=\"tick\"><line x2=\"-6\" stroke=\"white\" /><text dy=\"0.32em\" x=\"-9\" fill=\"white\">10</text></g><g transform=\"translate(0,76.05817981420249)\" opacity=\"1\" class=\"tick\"><line x2=\"-6\" stroke=\"white\" /><text dy=\"0.32em\" x=\"-9\" fill=\"white\">11</text></g><g transform=\"translate(0,49.290741615493616)\" opacity=\"1\" class=\"tick\"><line x2=\"-6\" stroke=\"white\" /><text dy=\"0.32em\" x=\"-9\" fill=\"white\">12</text></g><text text-anchor=\"start\" fill=\"white\" y=\"10\" x=\"-40\">↑ Frequency (%)</text></g></svg>"
      ]
     },
     "metadata": {},
     "output_type": "display_data"
    }
   ],
   "source": [
    "await c.plot({darkMode: true})"
   ]
  },
  {
   "cell_type": "code",
   "execution_count": null,
   "id": "39e00c18-06c3-4d00-9fe9-8b178e4786de",
   "metadata": {},
   "outputs": [],
   "source": []
  },
  {
   "cell_type": "code",
   "execution_count": null,
   "id": "c68185b1-a214-47b9-96e6-761687b36c96",
   "metadata": {},
   "outputs": [],
   "source": []
  }
 ],
 "metadata": {
  "kernelspec": {
   "display_name": "Deno",
   "language": "typescript",
   "name": "deno"
  },
  "language_info": {
   "codemirror_mode": "typescript",
   "file_extension": ".ts",
   "mimetype": "text/x.typescript",
   "name": "typescript",
   "nbconvert_exporter": "script",
   "pygments_lexer": "typescript",
   "version": "5.5.2"
  }
 },
 "nbformat": 4,
 "nbformat_minor": 5
}
