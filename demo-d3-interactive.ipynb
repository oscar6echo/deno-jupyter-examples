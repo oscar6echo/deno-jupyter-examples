{
 "cells": [
  {
   "cell_type": "code",
   "execution_count": 1,
   "id": "feaaa57a-a714-498b-b37a-4b7b55f784e9",
   "metadata": {
    "editable": true,
    "slideshow": {
     "slide_type": ""
    },
    "tags": []
   },
   "outputs": [],
   "source": [
    "import Demo from './src/samples/d3-interactive/demo.ts'"
   ]
  },
  {
   "cell_type": "code",
   "execution_count": 2,
   "id": "dba9dc15-99fa-44a3-aedb-671ef3c1d4bd",
   "metadata": {},
   "outputs": [
    {
     "data": {
      "text/plain": [
       "Demo {\n",
       "  width: \u001b[33m300\u001b[39m,\n",
       "  height: \u001b[33m50\u001b[39m,\n",
       "  x: \u001b[33m150\u001b[39m,\n",
       "  y: \u001b[33m25\u001b[39m,\n",
       "  r: \u001b[33m10\u001b[39m,\n",
       "  color: \u001b[32m\"blue\"\u001b[39m,\n",
       "  svg: \u001b[32m'<svg height=\"50\" width=\"300\"><circle fill=\"blue\" stroke-width=\"1\" stroke=\"aliceblue\" r=\"10\" cy=\"25\" cx=\"150\" /></svg>'\u001b[39m,\n",
       "  display_id: \u001b[32m\"Demo-485\"\u001b[39m\n",
       "}"
      ]
     },
     "execution_count": 2,
     "metadata": {},
     "output_type": "execute_result"
    }
   ],
   "source": [
    "const c = new Demo()\n",
    "c"
   ]
  },
  {
   "cell_type": "code",
   "execution_count": 3,
   "id": "fa410fe6-153a-40d5-ad0e-a7dcf60edd02",
   "metadata": {},
   "outputs": [
    {
     "data": {
      "image/svg+xml": [
       "<svg height=\"50\" width=\"300\"><circle fill=\"green\" stroke-width=\"1\" stroke=\"aliceblue\" r=\"20\" cy=\"25\" cx=\"150\" /></svg>"
      ]
     },
     "metadata": {},
     "output_type": "display_data"
    }
   ],
   "source": [
    "await c.show()"
   ]
  },
  {
   "cell_type": "code",
   "execution_count": 4,
   "id": "8fc1221a-dc72-4090-8cd3-761a7c6af808",
   "metadata": {},
   "outputs": [],
   "source": [
    "c.update(15, 'red')"
   ]
  },
  {
   "cell_type": "code",
   "execution_count": 5,
   "id": "818330b7-51ac-4ead-9bab-dfb2c5d97303",
   "metadata": {},
   "outputs": [],
   "source": [
    "c.update(20, 'green')"
   ]
  },
  {
   "cell_type": "code",
   "execution_count": null,
   "id": "d0166eea-f358-4e75-8b67-63eb2243444b",
   "metadata": {},
   "outputs": [],
   "source": []
  }
 ],
 "metadata": {
  "kernelspec": {
   "display_name": "Deno",
   "language": "typescript",
   "name": "deno"
  },
  "language_info": {
   "codemirror_mode": "typescript",
   "file_extension": ".ts",
   "mimetype": "text/x.typescript",
   "name": "typescript",
   "nbconvert_exporter": "script",
   "pygments_lexer": "typescript",
   "version": "5.5.2"
  }
 },
 "nbformat": 4,
 "nbformat_minor": 5
}
